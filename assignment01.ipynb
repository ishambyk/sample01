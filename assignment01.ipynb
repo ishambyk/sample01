{
  "cells": [
    {
      "cell_type": "markdown",
      "metadata": {
        "id": "view-in-github",
        "colab_type": "text"
      },
      "source": [
        "<a href=\"https://colab.research.google.com/github/ishambyk/sample01/blob/main/assignment01.ipynb\" target=\"_parent\"><img src=\"https://colab.research.google.com/assets/colab-badge.svg\" alt=\"Open In Colab\"/></a>"
      ]
    },
    {
      "cell_type": "markdown",
      "metadata": {
        "id": "zVV_KMSIUG-A"
      },
      "source": [
        "# Answer the following questions using only builtin Python datatypes and functions. Do not use Numpy or Scipy (i.e. No library imports allowed)"
      ]
    },
    {
      "cell_type": "markdown",
      "metadata": {
        "id": "uZnK7VgWV5SI"
      },
      "source": [
        "# Q1. Write a function that return the range (maximum and minimun) of a given list of numbers"
      ]
    },
    {
      "cell_type": "code",
      "execution_count": null,
      "metadata": {
        "id": "vuAbJQcOWAM7",
        "outputId": "016299af-07da-40ff-f63e-fb3936500054"
      },
      "outputs": [
        {
          "name": "stdout",
          "output_type": "stream",
          "text": [
            "range=  2 55\n"
          ]
        }
      ],
      "source": [
        "def range(a):\n",
        "    minimum=min(a)\n",
        "    maximum=max(a)\n",
        "    return minimum,maximum\n",
        "a=[2,4,3,10,7,55]\n",
        "minimum,maximum=range(a)\n",
        "print(\"range= \" , minimum,maximum)"
      ]
    },
    {
      "cell_type": "markdown",
      "metadata": {
        "id": "Y5_v5a8_U1O-"
      },
      "source": [
        "## Q2. Write function that returns mean value of a list of numbers"
      ]
    },
    {
      "cell_type": "code",
      "execution_count": null,
      "metadata": {
        "id": "RajjEyacU7Sc",
        "outputId": "536e3c92-bd83-4b22-b6ae-d852f15a3d61"
      },
      "outputs": [
        {
          "name": "stdout",
          "output_type": "stream",
          "text": [
            "Median: 55.0\n"
          ]
        }
      ],
      "source": [
        "def mean(data):\n",
        "    total=0\n",
        "    for num in data:\n",
        "        total += num\n",
        "        mean= total / len(data)\n",
        "    return mean\n",
        "\n",
        "data=[10,20,30,40,50,60,70,80,90,100]\n",
        "print(\"Median:\", mean(data))"
      ]
    },
    {
      "cell_type": "markdown",
      "metadata": {
        "id": "OpeRxoEoVTIP"
      },
      "source": [
        "# Q3. Write a function that returns the median value of a list of numbers"
      ]
    },
    {
      "cell_type": "code",
      "execution_count": null,
      "metadata": {
        "id": "u1CUy0UOVaQi",
        "outputId": "4066d0a7-5b8a-4466-d38d-02ae3dc4f13e"
      },
      "outputs": [
        {
          "name": "stdout",
          "output_type": "stream",
          "text": [
            "Median: 55.0\n"
          ]
        }
      ],
      "source": [
        "def median(data):\n",
        "    data.sort()\n",
        "    n = len(data)\n",
        "    if n % 2 == 0:\n",
        "        median= (data[n//2 - 1] + data[n//2]) / 2\n",
        "    else:\n",
        "        median = data[n//2]\n",
        "    return median\n",
        "\n",
        "data=[10,20,30,40,50,60,70,80,90,100]\n",
        "print(\"Median:\", median(data))\n"
      ]
    },
    {
      "cell_type": "markdown",
      "metadata": {
        "id": "2EMOG7AZSqVn"
      },
      "source": [
        "## Q4. Write a function to return the mod of a list of numbers, if no mod exists, it should return None. If more than one mod exist, return the mod values as list"
      ]
    },
    {
      "cell_type": "code",
      "execution_count": null,
      "metadata": {
        "id": "qnMm2dhhSk3-",
        "outputId": "c21ff1c4-0390-4ca6-eee1-ac103ec36738"
      },
      "outputs": [
        {
          "name": "stdout",
          "output_type": "stream",
          "text": [
            "Mode: [10]\n"
          ]
        }
      ],
      "source": []
    },
    {
      "cell_type": "markdown",
      "metadata": {
        "id": "LcqWwqtgTCiL"
      },
      "source": [
        "## Q5. Write function to compute a given percentile value (e.g. 90th percentile) of a list of numbers"
      ]
    },
    {
      "cell_type": "code",
      "execution_count": null,
      "metadata": {
        "id": "Sn307h0TTb2b",
        "outputId": "8e560125-f0da-47a0-f9b9-e74e1d00971b"
      },
      "outputs": [
        {
          "name": "stdout",
          "output_type": "stream",
          "text": [
            "Percentile value: 91.0\n"
          ]
        }
      ],
      "source": [
        "def percentile(data):\n",
        "    data.sort()\n",
        "    n= len(data)\n",
        "    a=((n-1) * (90/ 100))   #8.1\n",
        "    e=int(a) #8\n",
        "    c=e+1 #9\n",
        "    if c >= n:\n",
        "        return data[e]\n",
        "    value= data[e] + (a-e)*(data[c]-data[e])\n",
        "    return value\n",
        "\n",
        "data=[60,20,30,50,10,40,70,80,90,100]\n",
        "print(\"Percentile value:\", percentile(data))"
      ]
    },
    {
      "cell_type": "markdown",
      "metadata": {
        "id": "N-TYHkDcWOfS"
      },
      "source": [
        "# Q6. Write a function that returns the lower bound of a list of numbers"
      ]
    },
    {
      "cell_type": "code",
      "execution_count": null,
      "metadata": {
        "id": "Y-RKPdKuW5nx",
        "outputId": "d3438c78-ae95-49fe-9129-b1a6997ebb3b"
      },
      "outputs": [
        {
          "name": "stdout",
          "output_type": "stream",
          "text": [
            "Q1 value: 3.25\n",
            "Q3 value: 7.25\n",
            "Lower bound: -2.75\n"
          ]
        }
      ],
      "source": [
        "def lower(data):\n",
        "    data.sort()\n",
        "    n = len(data)\n",
        "\n",
        "    q1=((25/100)*(n-1))\n",
        "    qa=int(q1)\n",
        "    qb=qa+1\n",
        "    value_q1= data[qa] + (q1-qa)*(data[qb]-data[qa])\n",
        "    print(\"Q1 value:\", value_q1)\n",
        "\n",
        "    q3=((75/100)*(n-1))\n",
        "    qc=int(q3)\n",
        "    qd=qc+1\n",
        "    value_q3 = data[qc] + (q3-qc)*(data[qd]-data[qc])\n",
        "    print(\"Q3 value:\", value_q3)\n",
        "\n",
        "    iqr = value_q3 - value_q1\n",
        "    lb = value_q1 - 1.5 * iqr\n",
        "    return lb\n",
        "\n",
        "data=[1,8,4,7]\n",
        "print(\"Lower bound:\", lower(data))"
      ]
    },
    {
      "cell_type": "markdown",
      "metadata": {
        "id": "5aHfaI_jThpX"
      },
      "source": [
        "## Q7. Write function to return any outliers from a given list of numbers, if no outliers present it should return None"
      ]
    },
    {
      "cell_type": "code",
      "execution_count": null,
      "metadata": {
        "id": "gG6-qzT7T0Si",
        "outputId": "c55f920f-608b-4c16-b6db-76df68305c9e"
      },
      "outputs": [
        {
          "name": "stdout",
          "output_type": "stream",
          "text": [
            "None\n"
          ]
        }
      ],
      "source": [
        "def outliers():\n",
        "    x=[1,7,9,10]\n",
        "    x.sort()\n",
        "    a=len(x)\n",
        "    q1=(25/100)*(a+1)\n",
        "    q2=(75/100)*(a+1)\n",
        "    IQR=q2-q1\n",
        "    lb=(q1-1.5*IQR)\n",
        "    ub=(q2+1.5*IQR)\n",
        "    outliers=[]\n",
        "    for i in x:\n",
        "        if i<lb or i>ub:\n",
        "            outliers.append(i)\n",
        "        if outliers:\n",
        "            return outliers\n",
        "        else:\n",
        "            return None\n",
        "outliers()\n",
        "print(outliers())"
      ]
    },
    {
      "cell_type": "markdown",
      "metadata": {
        "id": "jI9t-tcDT5EK"
      },
      "source": [
        "##Q8. Write a function to return standard deviation of a list of numbers"
      ]
    },
    {
      "cell_type": "code",
      "execution_count": null,
      "metadata": {
        "id": "MMU_cMlLUFxJ",
        "outputId": "a8b0d550-e245-4d05-dc58-42b904d4cb6b"
      },
      "outputs": [
        {
          "name": "stdout",
          "output_type": "stream",
          "text": [
            "mean:  5.5\n",
            "variance 6.0\n",
            "standard deviation: 2.449489742783178\n"
          ]
        }
      ],
      "source": [
        "a=[2,5,6,8,7,4,3,9]\n",
        "def find_std():\n",
        "    mean=sum(a)/len(a)\n",
        "    print(\"mean: \",mean)\n",
        "    variance=sum((i-mean)**2 for i in a)/(len(a)-1)\n",
        "    print(\"variance\",variance)\n",
        "    std=variance**0.5\n",
        "    print(\"standard deviation:\",std)\n",
        "find_std()"
      ]
    },
    {
      "cell_type": "markdown",
      "metadata": {
        "id": "LufmQDJPURkM"
      },
      "source": [
        "## Q9. Write function to compute and return Z-score values of a list of numbers"
      ]
    },
    {
      "cell_type": "code",
      "execution_count": null,
      "metadata": {
        "id": "ml2qpSpFUYxV"
      },
      "outputs": [],
      "source": []
    },
    {
      "cell_type": "markdown",
      "metadata": {
        "id": "YQSNHIfxUb6s"
      },
      "source": [
        "## Q10. Write a function to compute and return the Pearson correlation coefficient value of two list of numbers"
      ]
    },
    {
      "cell_type": "code",
      "execution_count": null,
      "metadata": {
        "id": "1YGqr3T6Uk6H"
      },
      "outputs": [],
      "source": []
    }
  ],
  "metadata": {
    "colab": {
      "provenance": [],
      "include_colab_link": true
    },
    "kernelspec": {
      "display_name": "Python 3",
      "name": "python3"
    },
    "language_info": {
      "codemirror_mode": {
        "name": "ipython",
        "version": 3
      },
      "file_extension": ".py",
      "mimetype": "text/x-python",
      "name": "python",
      "nbconvert_exporter": "python",
      "pygments_lexer": "ipython3",
      "version": "3.13.4"
    }
  },
  "nbformat": 4,
  "nbformat_minor": 0
}