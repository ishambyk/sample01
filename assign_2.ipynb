{
  "cells": [
    {
      "cell_type": "markdown",
      "metadata": {
        "id": "view-in-github",
        "colab_type": "text"
      },
      "source": [
        "<a href=\"https://colab.research.google.com/github/ishambyk/sample01/blob/main/assign_2.ipynb\" target=\"_parent\"><img src=\"https://colab.research.google.com/assets/colab-badge.svg\" alt=\"Open In Colab\"/></a>"
      ]
    },
    {
      "cell_type": "markdown",
      "id": "d2328cad",
      "metadata": {
        "id": "d2328cad"
      },
      "source": [
        "# Python Basics Assignment"
      ]
    },
    {
      "cell_type": "markdown",
      "id": "cb537954",
      "metadata": {
        "id": "cb537954"
      },
      "source": [
        "### Question 1\n",
        "Write a function to compute number of vowels in a string given as input"
      ]
    },
    {
      "cell_type": "code",
      "execution_count": null,
      "id": "cf213ba2",
      "metadata": {
        "id": "cf213ba2",
        "outputId": "01ece33a-df5a-465c-ef74-1f97d537883d"
      },
      "outputs": [
        {
          "name": "stdout",
          "output_type": "stream",
          "text": [
            "Number of vowels: 10\n"
          ]
        }
      ],
      "source": [
        "# Your code here\n",
        "def compute_vowels():\n",
        "    a =(\"python is a programming language\")\n",
        "    vowels = 'aeiou'\n",
        "    count = 0\n",
        "    for cvowels in a:\n",
        "        if cvowels.lower() in vowels:\n",
        "            count += 1\n",
        "    return count\n",
        "\n",
        "print(\"Number of vowels:\", compute_vowels())\n",
        "\n"
      ]
    },
    {
      "cell_type": "markdown",
      "id": "4eaff430",
      "metadata": {
        "id": "4eaff430"
      },
      "source": [
        "### Question 2\n",
        "Write a function that checks whether a number is prime."
      ]
    },
    {
      "cell_type": "code",
      "execution_count": null,
      "id": "81934cf7",
      "metadata": {
        "id": "81934cf7",
        "outputId": "dac616cc-4b0b-4681-aa47-a17bf03110ec"
      },
      "outputs": [
        {
          "name": "stdout",
          "output_type": "stream",
          "text": [
            "the number is : False\n"
          ]
        }
      ],
      "source": [
        "# Your code here\n",
        "def prime_numbers():\n",
        "    n=int(input(\"Enter a number: \"))\n",
        "    if n <= 1:\n",
        "        return False\n",
        "    for i in range(2, n):\n",
        "        if n % i == 0:\n",
        "            return False\n",
        "\n",
        "    return True\n",
        "print(\"the number is :\", prime_numbers())\n"
      ]
    },
    {
      "cell_type": "markdown",
      "id": "5f061e50",
      "metadata": {
        "id": "5f061e50"
      },
      "source": [
        "### Question 3\n",
        "Write a function to return the maximum of two numbers."
      ]
    },
    {
      "cell_type": "code",
      "execution_count": null,
      "id": "44e2a596",
      "metadata": {
        "id": "44e2a596",
        "outputId": "0ad4447d-509c-403b-85bf-313f1bd7b43c"
      },
      "outputs": [
        {
          "name": "stdout",
          "output_type": "stream",
          "text": [
            "The maximum number is: 6\n"
          ]
        }
      ],
      "source": [
        "# Your code here\n",
        "def max():\n",
        "    n=int(input(\"Enter a number: \"))\n",
        "    m=int(input(\"Enter a number: \"))\n",
        "    if n>m:\n",
        "        return n\n",
        "    elif m==n:\n",
        "        return \"Both numbers are equal\"\n",
        "    else:\n",
        "        return m\n",
        "print(\"The maximum number is:\", max())\n",
        "\n",
        ""
      ]
    },
    {
      "cell_type": "markdown",
      "id": "7513ca91",
      "metadata": {
        "id": "7513ca91"
      },
      "source": [
        "### Question 4\n",
        "Write a function to return the factorial of a number."
      ]
    },
    {
      "cell_type": "code",
      "execution_count": null,
      "id": "6617842f",
      "metadata": {
        "id": "6617842f",
        "outputId": "e8f72d5d-37d3-4c68-aee2-d4f2aa8550c3"
      },
      "outputs": [
        {
          "name": "stdout",
          "output_type": "stream",
          "text": [
            "The factorial is: 120\n"
          ]
        }
      ],
      "source": [
        "# Your code here\n",
        "def factorial():\n",
        "    n = int(input(\"Enter a number: \"))\n",
        "    if n < 0:\n",
        "        return \"Factorial is not defined for negative numbers\"\n",
        "    elif n == 0:\n",
        "        return 1\n",
        "    else:\n",
        "        a=1\n",
        "        for i in range(1, n + 1):\n",
        "            a *= i\n",
        "        return a\n",
        "print(\"The factorial is:\", factorial())\n",
        "\n",
        ""
      ]
    },
    {
      "cell_type": "markdown",
      "id": "9b942098",
      "metadata": {
        "id": "9b942098"
      },
      "source": [
        "### Question 5\n",
        "Write a function to reverse a string without string indexing."
      ]
    },
    {
      "cell_type": "code",
      "execution_count": null,
      "id": "d606b194",
      "metadata": {
        "id": "d606b194",
        "outputId": "dc311c1f-8f4e-4a34-82c5-f033a16aaabf"
      },
      "outputs": [
        {
          "name": "stdout",
          "output_type": "stream",
          "text": [
            "reversed : naras\n"
          ]
        }
      ],
      "source": [
        "# Your code here\n",
        "def rev():\n",
        "  n=input(\"enter a string :\")\n",
        "  a=reversed(n)\n",
        "  s=\"\".join(a)\n",
        "  return s\n",
        "\n",
        "print(\"reversed :\",rev())"
      ]
    },
    {
      "cell_type": "markdown",
      "id": "1abd915b",
      "metadata": {
        "id": "1abd915b"
      },
      "source": [
        "### Question 6\n",
        "Write a function to check if a string is a palindrome."
      ]
    },
    {
      "cell_type": "code",
      "execution_count": null,
      "id": "2b868fb3",
      "metadata": {
        "id": "2b868fb3",
        "outputId": "0d3291c4-3ebe-4e7c-9d53-ba53acdf76a0"
      },
      "outputs": [
        {
          "name": "stdout",
          "output_type": "stream",
          "text": [
            "palindrome :  palindrome\n"
          ]
        }
      ],
      "source": [
        "# Your code here\n",
        "def palindrome():\n",
        "  n=input(\"enter a string : \")\n",
        "  a=reversed(n)\n",
        "  s=\"\".join(a)\n",
        "  if n==s:\n",
        "    return(\"palindrome\")\n",
        "  else:\n",
        "    return(\"not palindrome\")\n",
        "\n",
        "print(\"palindrome : \",palindrome())"
      ]
    },
    {
      "cell_type": "markdown",
      "id": "5f2f3791",
      "metadata": {
        "id": "5f2f3791"
      },
      "source": [
        "### Question 7\n",
        "Write a function to count vowels in a string."
      ]
    },
    {
      "cell_type": "code",
      "execution_count": null,
      "id": "73fefa50",
      "metadata": {
        "id": "73fefa50",
        "outputId": "2f4a24dd-1394-4b28-c6f8-663cc3abc2a9"
      },
      "outputs": [
        {
          "name": "stdout",
          "output_type": "stream",
          "text": [
            "Number of vowels: 2\n"
          ]
        }
      ],
      "source": [
        "# Your code here\n",
        "def compute_vowels():\n",
        "    a = input(\"Enter a string: \")\n",
        "    vowels = 'aeiou'\n",
        "    count = 0\n",
        "    for cvowels in a:\n",
        "        if cvowels.lower() in vowels:\n",
        "            count += 1\n",
        "    return count\n",
        "\n",
        "print(\"Number of vowels:\", compute_vowels())\n",
        ""
      ]
    },
    {
      "cell_type": "markdown",
      "id": "0d3a9996",
      "metadata": {
        "id": "0d3a9996"
      },
      "source": [
        "### Question 8\n",
        "Write a function that returns the sum of a list."
      ]
    },
    {
      "cell_type": "code",
      "execution_count": null,
      "id": "ab6afc66",
      "metadata": {
        "id": "ab6afc66",
        "outputId": "4c550ffc-843a-4ab5-b483-1dd4ae5728c7"
      },
      "outputs": [
        {
          "name": "stdout",
          "output_type": "stream",
          "text": [
            "The sum of the list is: 15\n"
          ]
        }
      ],
      "source": [
        "# Your code here\n",
        "def sum_list():\n",
        "    n=[1, 2, 3, 4, 5]\n",
        "    a=sum(n)\n",
        "    return a\n",
        "print(\"The sum of the list is:\", sum_list())\n"
      ]
    },
    {
      "cell_type": "markdown",
      "id": "f6682500",
      "metadata": {
        "id": "f6682500"
      },
      "source": [
        "### Question 9\n",
        "Write a function to find the smallest number in a list."
      ]
    },
    {
      "cell_type": "code",
      "execution_count": null,
      "id": "6798a641",
      "metadata": {
        "id": "6798a641",
        "outputId": "35d5957e-ff54-4af5-96b8-bc0af7bc77ff"
      },
      "outputs": [
        {
          "name": "stdout",
          "output_type": "stream",
          "text": [
            "The smallest number in the list is: 0\n"
          ]
        }
      ],
      "source": [
        "# Your code here\n",
        "def smallest():\n",
        "    a=[ 2, 3, 1, 0, 4, 5]\n",
        "    b=min(a)\n",
        "    return b\n",
        "print(\"The smallest number in the list is:\", smallest())"
      ]
    },
    {
      "cell_type": "markdown",
      "id": "fb11e683",
      "metadata": {
        "id": "fb11e683"
      },
      "source": [
        "### Question 10\n",
        "Write a function to remove duplicates from a list."
      ]
    },
    {
      "cell_type": "code",
      "execution_count": null,
      "id": "7c53f88c",
      "metadata": {
        "id": "7c53f88c",
        "outputId": "e55d5deb-0da1-449f-f84c-cbfcbc5eecbe"
      },
      "outputs": [
        {
          "name": "stdout",
          "output_type": "stream",
          "text": [
            "The list after removing duplicates is: [1, 2, 3, 4, 5, 6, 7, 8, 9, 10]\n"
          ]
        }
      ],
      "source": [
        "# Your code here\n",
        "def rem_dupli():\n",
        "    a=[1, 2, 3, 4, 5, 1, 2,10,6,7,8,9]\n",
        "    b=set(a)\n",
        "    c=list(b)\n",
        "    return c\n",
        "print(\"The list after removing duplicates is:\", rem_dupli())"
      ]
    },
    {
      "cell_type": "markdown",
      "id": "9c380a5c",
      "metadata": {
        "id": "9c380a5c"
      },
      "source": [
        "### Question 11\n",
        "Write a function to sort a list in ascending order without using builtin sort function"
      ]
    },
    {
      "cell_type": "code",
      "execution_count": null,
      "id": "8e43832f",
      "metadata": {
        "id": "8e43832f",
        "outputId": "85018a1b-9100-47ea-b909-1219c644ad58"
      },
      "outputs": [
        {
          "name": "stdout",
          "output_type": "stream",
          "text": [
            "The list in ascending order is: ['[', '1', '0', ',', ' ', '5', ',', ' ', '8', ',', ' ', '7', ',', ' ', '4', ',', ' ', '1', ',', ' ', '3', ',', ' ', '2', ',', ' ', '6', ',', ' ', '9', ']']\n"
          ]
        }
      ],
      "source": [
        "# Your code here\n",
        "# def asce():\n",
        "#     a=[10,5,8,7,4,1,3,2,6,9]\n",
        "#     b=str(a)\n",
        "#     c=list(b)\n",
        "#     return c\n",
        "# print(\"The list in ascending order is:\", asce())"
      ]
    },
    {
      "cell_type": "markdown",
      "id": "1270c91c",
      "metadata": {
        "id": "1270c91c"
      },
      "source": [
        "### Question 12\n",
        "Write a function that returns the length of a string."
      ]
    },
    {
      "cell_type": "code",
      "execution_count": null,
      "id": "87f35472",
      "metadata": {
        "id": "87f35472",
        "outputId": "a228fa00-09f6-4c32-b156-26c1e2ff4c4b"
      },
      "outputs": [
        {
          "name": "stdout",
          "output_type": "stream",
          "text": [
            "length of a string :  26\n"
          ]
        },
        {
          "data": {
            "text/plain": [
              "26"
            ]
          },
          "execution_count": 12,
          "metadata": {},
          "output_type": "execute_result"
        }
      ],
      "source": [
        "# Your code here\n",
        "def len_string():\n",
        "    a=(\"abcdefghijklmnopqrstuvwxyz\")\n",
        "    b=len(a)\n",
        "    return b\n",
        "print(\"length of a string : \",len_string())\n"
      ]
    },
    {
      "cell_type": "markdown",
      "id": "9a8e3d28",
      "metadata": {
        "id": "9a8e3d28"
      },
      "source": [
        "### Question 13\n",
        "Write a function to count words in a sentence."
      ]
    },
    {
      "cell_type": "code",
      "execution_count": null,
      "id": "e6f996ef",
      "metadata": {
        "id": "e6f996ef",
        "outputId": "5d5b2687-5256-479a-fda0-c429460f8d34"
      },
      "outputs": [
        {
          "name": "stdout",
          "output_type": "stream",
          "text": [
            "length :  5\n"
          ]
        }
      ],
      "source": [
        "# Your code here\n",
        "def count_words():\n",
        "    a =(\"python is a programming language\")\n",
        "    w=a.split()\n",
        "    l=len(w)\n",
        "    return l\n",
        "print(\"length : \",count_words())"
      ]
    },
    {
      "cell_type": "markdown",
      "id": "430c2e4a",
      "metadata": {
        "id": "430c2e4a"
      },
      "source": [
        "### Question 14\n",
        "Write a function to convert Celsius to Fahrenheit."
      ]
    },
    {
      "cell_type": "code",
      "execution_count": null,
      "id": "b710b0bd",
      "metadata": {
        "id": "b710b0bd",
        "outputId": "26e14dfc-3336-4034-9303-a90dd6b18126"
      },
      "outputs": [
        {
          "name": "stdout",
          "output_type": "stream",
          "text": [
            "farenheit : 122.0\n"
          ]
        }
      ],
      "source": [
        "# Your code here\n",
        "def convert():\n",
        "  a=int(input('enter the Celsius :'))\n",
        "  b=(9/5)*a+32\n",
        "  return b\n",
        "print(\"farenheit :\",convert())\n",
        ""
      ]
    },
    {
      "cell_type": "markdown",
      "id": "acefe5e3",
      "metadata": {
        "id": "acefe5e3"
      },
      "source": [
        "### Question 15\n",
        "Write a function to check if a number is palindrome."
      ]
    },
    {
      "cell_type": "code",
      "execution_count": null,
      "id": "b700abae",
      "metadata": {
        "id": "b700abae",
        "outputId": "e02aa27d-b39c-4217-ae2d-238272fabafa"
      },
      "outputs": [
        {
          "name": "stdout",
          "output_type": "stream",
          "text": [
            "60\n",
            "palindrome :  not palindrome\n"
          ]
        }
      ],
      "source": [
        "# Your code here\n",
        "def num_palindrome():\n",
        "  n=input(\"enter a number : \")\n",
        "  print(n)\n",
        "  a=reversed(n)\n",
        "  s=\"\".join(a)\n",
        "  if n==s:\n",
        "    return(\"palindrome\")\n",
        "  else:\n",
        "    return(\"not palindrome\")\n",
        "\n",
        "print(\"palindrome : \",num_palindrome())"
      ]
    },
    {
      "cell_type": "markdown",
      "id": "b63452cb",
      "metadata": {
        "id": "b63452cb"
      },
      "source": [
        "### Question 16\n",
        "Write a function to return all even numbers in a list."
      ]
    },
    {
      "cell_type": "code",
      "execution_count": null,
      "id": "9d1fc968",
      "metadata": {
        "id": "9d1fc968",
        "outputId": "0d49020b-e58e-4430-b959-37e6f8d1e0fa"
      },
      "outputs": [
        {
          "name": "stdout",
          "output_type": "stream",
          "text": [
            "even :  [2, 4, 6, 8, 10]\n"
          ]
        }
      ],
      "source": [
        "# Your code here\n",
        "def even_no():\n",
        "    a=[1,2,3,4,5,6,7,8,9,10]\n",
        "    b=[i for i in a  if i % 2==0]\n",
        "    return b\n",
        "print(\"even : \", even_no())\n"
      ]
    },
    {
      "cell_type": "markdown",
      "id": "aca524d9",
      "metadata": {
        "id": "aca524d9"
      },
      "source": [
        "### Question 17\n",
        "Write a function to return the nth Fibonacci number."
      ]
    },
    {
      "cell_type": "code",
      "execution_count": null,
      "id": "97dc4e87",
      "metadata": {
        "id": "97dc4e87",
        "outputId": "69791ca0-5ad2-48c4-8742-6780e9ce6374"
      },
      "outputs": [
        {
          "name": "stdout",
          "output_type": "stream",
          "text": [
            "fib :  12586269025\n"
          ]
        }
      ],
      "source": [
        "# Your code here\n",
        "def Fibonacci():\n",
        "    n=int(input(\"enter a number\"))\n",
        "    if n==0:\n",
        "       return 0\n",
        "    elif n==1:\n",
        "        return 1\n",
        "    else:\n",
        "        a=0\n",
        "        b=1\n",
        "        for i in range(2,n+1):\n",
        "            a,b=b,a+b\n",
        "        return b\n",
        "\n",
        "print(\"fib : \",Fibonacci())\n"
      ]
    },
    {
      "cell_type": "markdown",
      "id": "29c847dc",
      "metadata": {
        "id": "29c847dc"
      },
      "source": [
        "### Question 18\n",
        "Write a function to calculate the average of a list."
      ]
    },
    {
      "cell_type": "code",
      "execution_count": null,
      "id": "9adc9fd2",
      "metadata": {
        "id": "9adc9fd2",
        "outputId": "41ba56d7-268c-4d05-ca2a-997469c4b2b6"
      },
      "outputs": [
        {
          "name": "stdout",
          "output_type": "stream",
          "text": [
            "avg : 5.0\n"
          ]
        }
      ],
      "source": [
        "# Your code here\n",
        "def avg():\n",
        "    a=[1,2,3,4,5,6,7,8,9]\n",
        "    b=sum(a)/len(a)\n",
        "    return b\n",
        "print(\"avg :\", avg())"
      ]
    },
    {
      "cell_type": "markdown",
      "id": "420240fb",
      "metadata": {
        "id": "420240fb"
      },
      "source": [
        "### Question 19\n",
        "Write a function that returns a dictionary of character counts."
      ]
    },
    {
      "cell_type": "code",
      "execution_count": null,
      "id": "95cafc54",
      "metadata": {
        "id": "95cafc54"
      },
      "outputs": [],
      "source": [
        "# Your code here\n",
        "def your_function_19():\n",
        "    pass"
      ]
    },
    {
      "cell_type": "markdown",
      "id": "17629a07",
      "metadata": {
        "id": "17629a07"
      },
      "source": [
        "### Question 20\n",
        "Write a function that returns True if all list elements are unique."
      ]
    },
    {
      "cell_type": "code",
      "execution_count": null,
      "id": "fe4f8820",
      "metadata": {
        "id": "fe4f8820",
        "outputId": "8852d3c3-87da-4574-d8b2-8a12a3a48c52"
      },
      "outputs": [
        {
          "name": "stdout",
          "output_type": "stream",
          "text": [
            "unique :  False\n"
          ]
        }
      ],
      "source": [
        "# Your code here\n",
        "def unique():\n",
        "    a=[1,2,3,4,5,6,7,8,'b','c']\n",
        "    b=set(a)\n",
        "    c=len(a)\n",
        "    if b==c:\n",
        "        return True\n",
        "    else:\n",
        "        return False\n",
        "\n",
        "print(\"unique : \",unique())\n",
        "\n",
        "\n"
      ]
    },
    {
      "cell_type": "markdown",
      "id": "91dc87b9",
      "metadata": {
        "id": "91dc87b9"
      },
      "source": [
        "### Question 21\n",
        "Write a function that returns dot product of two list of numbers"
      ]
    },
    {
      "cell_type": "code",
      "execution_count": null,
      "id": "87c3fa4b",
      "metadata": {
        "id": "87c3fa4b",
        "outputId": "14e9be4d-6f53-478f-9fe0-b3b97b3c31b5"
      },
      "outputs": [
        {
          "name": "stdout",
          "output_type": "stream",
          "text": [
            "Dot product is: 190\n"
          ]
        }
      ],
      "source": [
        "# Your code here\n",
        "def dot():\n",
        "    a = [1, 3, 5, 7, 9]\n",
        "    b = [2, 4, 6, 8, 10]\n",
        "    total = 0\n",
        "    for i in range(len(a)):\n",
        "        total += a[i] * b[i]\n",
        "    return total\n",
        "\n",
        "print(\"Dot product is:\", dot())\n"
      ]
    },
    {
      "cell_type": "markdown",
      "id": "5eeb0527",
      "metadata": {
        "id": "5eeb0527"
      },
      "source": [
        "### Question 22\n",
        "Write a function that returns the projection of vector a onto vector b. Both a and b are given as list of numbers"
      ]
    },
    {
      "cell_type": "code",
      "execution_count": null,
      "id": "d2c2439f",
      "metadata": {
        "id": "d2c2439f"
      },
      "outputs": [],
      "source": [
        "# Your code here\n",
        "def your_function_22():\n",
        "    pass"
      ]
    },
    {
      "cell_type": "markdown",
      "id": "1410b385",
      "metadata": {
        "id": "1410b385"
      },
      "source": [
        "### Question 23\n",
        "Write a function to return common elements between two lists."
      ]
    },
    {
      "cell_type": "code",
      "execution_count": null,
      "id": "2cee584c",
      "metadata": {
        "id": "2cee584c",
        "outputId": "d70cb706-0a16-4d04-e6bb-83e4026943fb"
      },
      "outputs": [
        {
          "name": "stdout",
          "output_type": "stream",
          "text": [
            "Common numbers: [8, 1]\n"
          ]
        }
      ],
      "source": [
        "# Your code here\n",
        "def common():\n",
        "    a = [1, 2, 3, 4, 5, 6, 7, 8, 9]\n",
        "    b = [11, 12, 13, 14, 15, 1, 8, 19, 20]\n",
        "    result = list(set(a) & set(b))\n",
        "    return result\n",
        "\n",
        "print(\"Common numbers:\", common())\n"
      ]
    },
    {
      "cell_type": "markdown",
      "id": "23ab5210",
      "metadata": {
        "id": "23ab5210"
      },
      "source": [
        "### Question 24\n",
        "Create a class Vector that supports addition, dot product, and magnitude."
      ]
    },
    {
      "cell_type": "code",
      "execution_count": null,
      "id": "f6b18fd7",
      "metadata": {
        "id": "f6b18fd7"
      },
      "outputs": [],
      "source": [
        "# Your code here\n",
        "def your_function_24():\n",
        "    pass"
      ]
    },
    {
      "cell_type": "markdown",
      "id": "a0621aba",
      "metadata": {
        "id": "a0621aba"
      },
      "source": [
        "### Question 25\n",
        "Implement a function to return all outliers in a list based on the IQR method."
      ]
    },
    {
      "cell_type": "code",
      "execution_count": null,
      "id": "460a8994",
      "metadata": {
        "id": "460a8994"
      },
      "outputs": [],
      "source": [
        "# Your code here\n",
        "def your_function_25():\n",
        "    pass"
      ]
    },
    {
      "cell_type": "markdown",
      "id": "f0be510e",
      "metadata": {
        "id": "f0be510e"
      },
      "source": [
        "### Question 26\n",
        "Function with default arguments:\n",
        "Create a function to compute variance with an option to use sample or population formula"
      ]
    },
    {
      "cell_type": "code",
      "execution_count": null,
      "id": "941d732d",
      "metadata": {
        "id": "941d732d"
      },
      "outputs": [],
      "source": [
        "# Your code here\n",
        "def your_function_26():\n",
        "    pass"
      ]
    },
    {
      "cell_type": "markdown",
      "id": "c39be0f1",
      "metadata": {
        "id": "c39be0f1"
      },
      "source": [
        "### Question 27\n",
        "Create a list of squares of even numbers between 1 and 20 using list comprehension."
      ]
    },
    {
      "cell_type": "code",
      "execution_count": null,
      "id": "9e4ba74a",
      "metadata": {
        "id": "9e4ba74a"
      },
      "outputs": [],
      "source": [
        "# Your code here\n",
        "def your_function_27():\n",
        "    pass"
      ]
    },
    {
      "cell_type": "markdown",
      "id": "b43c266d",
      "metadata": {
        "id": "b43c266d"
      },
      "source": [
        "### Question 28\n",
        "Write a function that returns the L1 and L2 norms of a vector given as list"
      ]
    },
    {
      "cell_type": "code",
      "execution_count": null,
      "id": "4f5dc876",
      "metadata": {
        "id": "4f5dc876"
      },
      "outputs": [],
      "source": [
        "# Your code here\n",
        "def your_function_28():\n",
        "    pass"
      ]
    },
    {
      "cell_type": "markdown",
      "id": "2007915f",
      "metadata": {
        "id": "2007915f"
      },
      "source": [
        "### Question 29\n",
        "Write a function that computes the 95% confidence interval for the mean of a list of numbers assuming normal distribution."
      ]
    },
    {
      "cell_type": "code",
      "execution_count": null,
      "id": "8634dc63",
      "metadata": {
        "id": "8634dc63"
      },
      "outputs": [],
      "source": [
        "# Your code here\n",
        "def your_function_29():\n",
        "    pass"
      ]
    },
    {
      "cell_type": "markdown",
      "id": "08df3afb",
      "metadata": {
        "id": "08df3afb"
      },
      "source": [
        "### Question 30\n",
        "Given a list of categorical values, create a frequency distribution dictionary."
      ]
    },
    {
      "cell_type": "code",
      "execution_count": null,
      "id": "c9b88531",
      "metadata": {
        "id": "c9b88531"
      },
      "outputs": [],
      "source": [
        "# Your code here\n",
        "def your_function_30():\n",
        "    pass"
      ]
    }
  ],
  "metadata": {
    "kernelspec": {
      "display_name": "Python 3",
      "language": "python",
      "name": "python3"
    },
    "language_info": {
      "codemirror_mode": {
        "name": "ipython",
        "version": 3
      },
      "file_extension": ".py",
      "mimetype": "text/x-python",
      "name": "python",
      "nbconvert_exporter": "python",
      "pygments_lexer": "ipython3",
      "version": "3.13.4"
    },
    "colab": {
      "provenance": [],
      "include_colab_link": true
    }
  },
  "nbformat": 4,
  "nbformat_minor": 5
}